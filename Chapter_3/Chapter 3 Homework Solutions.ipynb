{
 "cells": [
  {
   "cell_type": "markdown",
   "id": "edaf10e1",
   "metadata": {},
   "source": [
    "### 1. "
   ]
  },
  {
   "cell_type": "markdown",
   "id": "81d5972e",
   "metadata": {},
   "source": [
    "Based on the diagram above, we can write the vectors in $\\left( x, y, z \\right)$ coordinates as\n",
    "$$\n",
    "\\vec{r}_1 = \\left( \\cos \\delta_1 \\cos \\alpha_1, \\cos \\delta_1 \\sin \\alpha_1, \\sin \\delta_1 \\right)\\\\\n",
    "\\vec{r}_2 = \\left( \\cos \\delta_2 \\cos \\alpha_2, \\cos \\delta_2 \\sin \\alpha_2, \\sin \\delta_2 \\right).\n",
    "$$\n",
    "\n",
    "The angle between them $\\theta$ is given by\n",
    "$$\n",
    "\\cos \\theta = \\vec{r}_1 \\cdot \\vec{r}_2 = \\cos \\delta_1 \\cos \\delta_2 \\cos \\alpha_1 \\cos \\alpha_2 + \\cos \\delta_1 \\cos \\delta_2 \\sin \\alpha_1 \\sin \\alpha_2 + \\sin \\delta_1 \\sin \\delta_2\\\\\n",
    "= \\cos \\delta_1 \\cos \\delta_2 \\left( \\cos \\alpha_1 \\cos \\alpha_2 + \\sin \\alpha_1 \\sin \\alpha_2 \\right) + \\sin \\delta_1 \\sin \\delta_2.\n",
    "$$\n",
    "\n",
    "We can use a standard trig identity to simplify the equation:\n",
    "$$\n",
    "\\cos \\alpha_1 \\cos \\alpha_2 \\pm \\sin \\alpha_1 \\sin \\alpha_2 = \\cos \\left( \\alpha_1 \\mp \\alpha_2 \\right).\n",
    "$$\n",
    "\n",
    "So\n",
    "$$\n",
    "\\vec{r}_1 \\cdot \\vec{r}_2 = \\boxed{ \\cos \\theta = \\cos \\delta_1 \\cos \\delta_2 \\cos \\left( \\alpha_1 - \\alpha_2 \\right) + \\sin \\delta_1 \\sin \\delta_2 }.\n",
    "$$"
   ]
  },
  {
   "cell_type": "markdown",
   "id": "b4b8b818",
   "metadata": {},
   "source": [
    "### 2."
   ]
  },
  {
   "cell_type": "markdown",
   "id": "57f246de",
   "metadata": {},
   "source": [
    "Presumably, Chromey means for us to compare the distance along the surface of the Earth. Otherwise, we could compare the straight-line distance through the Earth's interior.\n",
    "\n",
    "The arc length along the surface of the Earth $d$ is given by $d = R_{\\rm Earth} \\theta$, where $\\theta$ is the same angle we calculated in problem 1 (and calculated in radians). RA and declination are the equivalent to longitude and latitude, so we can use the equation we just worked out to solve for $\\theta$.\n",
    "\n",
    "Distance between New York City and Los Angeles:\n",
    "$$\n",
    "\\cos \\theta = \\cos \\left( 41^\\circ \\right) \\cos \\left( 34^\\circ \\right) \\cos \\left( 118^\\circ - 74^\\circ \\right) + \\sin \\left( 41^\\circ \\right) \\sin \\left( 34^\\circ \\right) = 0.82 \\Rightarrow d = 3900\\, {\\rm km}.\n",
    "$$\n",
    "\n",
    "Distance between New York City and Mexico City:\n",
    "$$\n",
    "\\cos \\theta = \\cos \\left( 41^\\circ \\right) \\cos \\left( 19^\\circ \\right) \\cos \\left( 118^\\circ - 99^\\circ \\right) + \\sin \\left( 41^\\circ \\right) \\sin \\left( 19^\\circ \\right) = 0.82 \\Rightarrow d = 3000\\, {\\rm km}.\n",
    "$$\n",
    "\n",
    "So Mexico City is a little closer to New York City."
   ]
  },
  {
   "cell_type": "markdown",
   "id": "15f07aeb",
   "metadata": {},
   "source": [
    "### 3."
   ]
  },
  {
   "cell_type": "markdown",
   "id": "b380ed37",
   "metadata": {},
   "source": [
    "The velocity oscillations are due to Earth's motion relative to the stars. Something traveling in a circle of radius $a$ and with period $P$ has a velocity \n",
    "$$\n",
    "\\upsilon = \\frac{2\\pi a}{P}.\n",
    "$$\n",
    "\n",
    "The period of Earth's orbit is $1\\,{\\rm year} \\approx \\pi\\times10^7\\,{\\rm s}$. So we can solve for the radius\n",
    "$$\n",
    "a = \\frac{\\upsilon P}{2\\pi} \\approx \\frac{\\left( 29.617 \\pm 0.057\\,{\\rm km\\ s^{-1}}\\right) \\left( \\pi\\times10^7\\, {\\rm s}\\right) }{2 \\pi} = \\boxed{ \\left( 15.0 \\pm 0.0285 \\right) \\times10^7\\,{\\rm km} }.\n",
    "$$\n",
    "\n",
    "The currently accepted value is $1\\, {\\rm AU} = 1.496\\times10^8\\,{\\rm km}$, which agrees to within the uncertainties  with our estimate."
   ]
  },
  {
   "cell_type": "markdown",
   "id": "ef3117be",
   "metadata": {},
   "source": [
    "### 4."
   ]
  },
  {
   "cell_type": "markdown",
   "id": "ef45c226",
   "metadata": {},
   "source": [
    "We can start with the small spherical triangle just below the larger one. For that triangle, the left leg has a length $\\Delta \\delta$ and a top leg of length $r$. \n",
    "\n",
    "The interior angle opposite the leg of length $\\Delta \\delta$ is $90^\\circ - \\theta$ since the bottom leg of the triangle is, by construction, a line of latitude, and therefore the angle between the rightmost leg of the larger triangle and the line of latitude is $90^\\circ$. The interior angle opposite the leg of length $r$ is $90^\\circ$ for the same reason.\n",
    "\n",
    "With all this information, we can apply Equation 3.3:\n",
    "$$\n",
    "\\frac{\\sin 90^\\circ}{\\sin r} = \\frac{\\sin \\left( 90^\\circ - \\theta \\right)}{\\sin \\Delta \\delta} = \\frac{1}{\\sin r} = \\frac{\\cos \\theta}{\\sin \\Delta \\delta} \\Rightarrow \\boxed{ \\sin \\Delta \\delta = \\sin r \\cos \\theta }.\n",
    "$$\n",
    "\n",
    "With $\\sin \\Delta \\delta$ in hand, we can also solve for $\\cos \\Delta \\delta = \\sqrt{1 - \\sin^2r \\cos^2\\theta}$.\n",
    "\n",
    "Finally, we can solve for $\\delta \\alpha$ applying Equation 3.3 but the larger triangle on top:\n",
    "$$\n",
    "\\frac{\\sin \\Delta \\alpha}{\\sin r} = \\frac{\\sin \\theta}{\\cos \\left( \\delta + \\Delta \\delta \\right) } \\Rightarrow\n",
    "\\boxed{ \\sin \\Delta \\alpha = \\frac{\\sin \\theta \\sin r}{\\cos \\left( \\delta + \\Delta \\delta \\right) } }\n",
    "$$"
   ]
  },
  {
   "cell_type": "markdown",
   "id": "ccb59f44",
   "metadata": {},
   "source": [
    "### 5."
   ]
  },
  {
   "cell_type": "markdown",
   "id": "d90eeb9b",
   "metadata": {},
   "source": [
    "The figure above shows the relevant geometry, and we're interested in solving for $\\Delta \\alpha$. We've got an spherical isoceles triangle for which the interior angles opposite the long, equal-length sides (of length $90^\\circ - \\delta$) are both $90^\\circ$ since the sides are lines of longitude intersecting a line of latitude. \n",
    "\n",
    "We can use Equation 3.3 again:\n",
    "$$\n",
    "\\frac{\\sin \\Delta \\alpha}{\\sin \\left( 1000'' \\right) } = \\frac{\\sin 90^\\circ}{\\sin \\left( 90^\\circ - \\delta \\right) } \\Rightarrow \\sin \\Delta \\alpha = \\frac{\\sin \\left( 1000'' \\right)}{\\cos \\delta}.\n",
    "$$\n",
    "\n",
    "Chromey's example answer for $0^\\circ$ appears to be wrong (or I've misunderstood the problem). \n",
    "\n",
    "So let's try $\\delta = 0^\\circ$:\n",
    "$$\n",
    "\\sin \\Delta \\alpha = \\frac{\\sin \\left( 1000'' \\right)}{\\cos 0^\\circ} \\Rightarrow \\Delta \\alpha = 1000''.\n",
    "$$\n",
    "\n",
    "Now we need to convert 1000'' to arcminutes:arcseconds. There are 60 arcseconds in an arcminute, so we have $1000''/60' \\approx 16.67'$ . Take just the integer portion (16' = 960''), subtract it from 1000'' (1000'' - 960'' = 40''), and you're left with a reminder of 40''. So the right answer at $\\delta = 0^\\circ$ is $\\boxed{ 16:40 }$.\n",
    "\n",
    "Let's try $\\delta = 85^\\circ$:\n",
    "$$\n",
    "\\sin \\Delta \\alpha = \\frac{\\sin\\left( 1000'' \\right)}{\\cos 85^\\circ} = \\frac{\\sin\\left( 1000'' \\right)}{0.087} \\Rightarrow \\Delta \\alpha = \\sin^{-1} \\left( \\frac{\\sin\\left( 1000'' \\right)}{0.087} \\right) = 3.2^\\circ.\n",
    "$$\n",
    "\n",
    "Now we need to convert that to arcminutes:arcseconds.\n",
    "\n",
    "$$\n",
    "3.2^\\circ = 3.2^\\circ \\times \\frac{60''}{1^\\circ} = \\boxed{ 192'' }.\n",
    "$$\n",
    "\n",
    "It makes sense that the width of the box in RA increases as you approach the pole ($\\delta \\rightarrow 90^\\circ$) since a larger and larger range of RA would be covered by the box."
   ]
  },
  {
   "cell_type": "markdown",
   "id": "a4e22445",
   "metadata": {},
   "source": [
    "### 6."
   ]
  },
  {
   "cell_type": "markdown",
   "id": "ed1e3249",
   "metadata": {},
   "source": [
    "The curve for the equation of time (p. 425 in the appendix) shows that on Dec 8 (the 309th day of the year), the time difference between the actual position of the Sun in the sky and the annually-averaged position is about 20 minutes. That means the Sun is much farther ahead where it is on average. \n",
    "\n",
    "This effect could be more or less pronounced depending on where in the time zone someone is. Closer to the eastern side of a time zone, the Sun will appear to be even farther ahead. Closer to the western side, the Sun will appear to be less far ahead."
   ]
  },
  {
   "cell_type": "markdown",
   "id": "c7bf707f",
   "metadata": {},
   "source": [
    "### 7. "
   ]
  },
  {
   "cell_type": "markdown",
   "id": "f78e1a74",
   "metadata": {},
   "source": [
    "By definition the sidereal clock starts its cycle at midnight, coinciding with noon on the spring equinox, and the sidereal clock cycles all the way back around over the course of the year."
   ]
  },
  {
   "cell_type": "markdown",
   "id": "eeaf80dc",
   "metadata": {},
   "source": [
    "During the other solstices/equinox, the sidereal clock is some fraction of the way through a full cycle compared to the mean solar clock. So one quarter of the way through the cycle, on summer solstice at noon, the sidereal clock should read about 6 AM. Half way through, on vernal equinox at noon, the sidereal clock should read 12 PM (noon)."
   ]
  },
  {
   "cell_type": "markdown",
   "id": "6795d43e",
   "metadata": {},
   "source": [
    "At noon on the winter solstice then, the sidereal clock will read 6 PM, Twelve hours later (as measured by either clock since we're only interested in the approximate sidereal time) at solar midnight, the sidereal clock will read 6 AM."
   ]
  },
  {
   "cell_type": "markdown",
   "id": "779ba813",
   "metadata": {},
   "source": [
    "Similar reasoning gives us the sidereal time at solar sunset -- 6 PM on the solar clock on winter solstice corresponds to midnight on the sidereal clock."
   ]
  },
  {
   "cell_type": "markdown",
   "id": "e75dadcf",
   "metadata": {},
   "source": [
    "### 8."
   ]
  },
  {
   "cell_type": "markdown",
   "id": "8950871d",
   "metadata": {},
   "source": [
    "We can use Equation 3.12:\n",
    "$$\n",
    "p[{\\rm arcsec}] = 206265 \\frac{1\\,{\\rm AU}}{r[{\\rm AU}]} \\Rightarrow r[{\\rm AU}] = \\frac{1\\,{\\rm AU}}{\\left( 4.17\\times10^{-3}\\, {\\rm arcsec}/206265\\right) } = \\boxed{ 4.96\\times10^7\\,{\\rm AU} = 7820\\,{\\rm lightyears} }.\n",
    "$$\n",
    "\n",
    "With the distance $r$ in hand, we can convert the angular radius $\\alpha$ into a physical radius $h$:\n",
    "$$\n",
    "\\alpha = \\frac{h}{r} \\Rightarrow h = \\left( 22.0\\,{\\rm arcsec} \\times \\frac{1\\,{\\rm radian}}{206265\\,{\\rm arcsec}} \\right) \\left( 4.96\\times10^7\\,{\\rm AU} \\right) = \\boxed{ 5290\\,{\\rm AU} }.\n",
    "$$"
   ]
  },
  {
   "cell_type": "markdown",
   "id": "fe61844c",
   "metadata": {},
   "source": [
    "### 9. (a)"
   ]
  },
  {
   "cell_type": "markdown",
   "id": "d4faa499",
   "metadata": {},
   "source": [
    "Since the wavelength shift $\\Delta \\lambda$ is small compared to the wavelength $\\lambda$, we can use the small redshift approximation, Equation 3.12:\n",
    "$$\n",
    "\\frac{\\Delta \\lambda}{\\lambda} \\approx \\frac{v_{\\rm R}}{c}.\n",
    "$$\n",
    "\n",
    "Since the total offset of the receding and approaching spectral lines is 0.160 nm, the shift of each individual line is half that, i.e., $\\Delta \\lambda = 0.080\\,{\\rm nm}$:\n",
    "$$\n",
    "v_{\\rm R} = \\left( \\frac{0.080\\,{\\rm nm}}{656\\,{\\rm nm}} \\right) \\left( 3\\times10^8\\,{\\rm m\\ s^{-1}} \\right) = \\boxed{ 36600\\, {\\rm m\\ s^{-1}} }\n",
    "$$"
   ]
  },
  {
   "cell_type": "markdown",
   "id": "11fba337",
   "metadata": {},
   "source": [
    "### 9. (b)"
   ]
  },
  {
   "cell_type": "markdown",
   "id": "ac3328cf",
   "metadata": {},
   "source": [
    "Assuming the nebula had a negligibly small radius initially (i.e., $h = 0$), we can estimate the age $\\tau$ from the current radial size $h$ as\n",
    "$$\n",
    "\\tau \\approx h \\left( \\frac{dh}{dt} \\right)^{-1} = \\frac{5290\\,{\\rm AU}}{2\\times 36600\\,{\\rm m\\ s^{-1}}} = \\boxed{ 342\\,{\\rm years} }.\n",
    "$$"
   ]
  },
  {
   "cell_type": "markdown",
   "id": "cf65ca3c",
   "metadata": {},
   "source": [
    "### 9. (c)"
   ]
  },
  {
   "cell_type": "markdown",
   "id": "174bc36d",
   "metadata": {},
   "source": [
    "We can calculate angular expansion rate as \n",
    "$$\n",
    "\\frac{\\Delta \\alpha}{\\Delta t} = \\frac{22.0 - 18.4\\,{\\rm arcsecs}}{60\\,{\\rm years}} = 60\\,{\\rm mas\\ yr^{-1}} = 2.91\\times10^{-7}\\,{\\rm radians\\ yr^{-1}}.\n",
    "$$\n",
    "\n",
    "Taking the age ($\\tau = 342\\,{\\rm years}$) and the observational timespan $\\Delta t = 60\\,{\\rm years}$ as givens, we can work out the distance $r$ using the following relations:\n",
    "$$\n",
    "\\alpha \\approx \\tau \\frac{\\Delta \\alpha}{\\Delta t} = \\frac{h}{r} \\Rightarrow r \\approx \\frac{h}{\\tau \\left( \\frac{\\Delta \\alpha}{\\Delta t} \\right)} = \\frac{5290\\,{\\rm AU}}{\\left( 342\\,{\\rm years} \\right) \\left( 2.91\\times10^{-7}\\,{\\rm radians\\ yr^{-1}} \\right) } = \\boxed{ 5.32\\times10^7\\,{\\rm AU} }\n",
    "$$"
   ]
  },
  {
   "cell_type": "markdown",
   "id": "a8d32626",
   "metadata": {},
   "source": [
    "### 10. "
   ]
  },
  {
   "cell_type": "markdown",
   "id": "39269f2b",
   "metadata": {},
   "source": [
    "Equation 3.11 for parallax can be re-arranged to calculate distance:\n",
    "$$\n",
    "r = \\frac{a}{p}.\n",
    "$$\n",
    "\n",
    "Using Equation 2.30, we can estimate how uncertainties in $a$ and $p$ compound to give an uncertainty in $r$:\n",
    "$$\n",
    "\\sigma_r^2 = \\left(\\frac{\\partial r}{\\partial a}\\right)^2 \\sigma_a^2 + \\left(\\frac{\\partial r}{\\partial p}\\right)^2 \\sigma_p^2 = \\left(\\frac{1}{p}\\right)^2 \\sigma_a^2 + \\left( \\frac{a}{p^2} \\right)^2 \\sigma_p^2.\n",
    "$$\n",
    "\n",
    "Chromey asks us to calculate a *relative* uncertainty for $r$, i.e. $\\sigma_r/r$, so we divide the above equation through by $r^2 = \\left( a/p \\right)^2$, giving\n",
    "$$\n",
    "\\left( \\frac{\\sigma_r}{r} \\right)^2 = \\left( \\frac{\\sigma_a}{a} \\right)^2 + \\left( \\frac{\\sigma_p}{p} \\right)^2 = \\left( 5\\% \\right)^2 + \\left( \\frac{0.04\\,{\\rm arcsec}}{0.32\\,{\\rm arcsec}} \\right)^2 \\Rightarrow \\boxed{ \\frac{\\sigma_r}{r} = 13\\% }.\n",
    "$$\n",
    "\n",
    "For the modern distance, \n",
    "$$\n",
    "r = \\frac{1\\,{\\rm AU}}{287.1\\times10^{-3}\\,{\\rm arcsecs}/\\left( 206265\\,{\\rm arcsecs/radian} \\right)} = 718400\\,{\\rm AU} = 11.36\\,{\\rm lightyears}\n",
    "$$\n",
    "\n",
    "We'll assume $\\sigma_a \\ll \\sigma_p$ (Chromey doesn't give us an uncertainty for AU anyway), giving a relative uncertainty for $r$:\n",
    "$$\n",
    "\\frac{\\sigma_r}{r} = \\frac{\\sigma_p}{p} = \\frac{0.5\\,{\\rm mas}}{287.1\\,{\\rm mas}} = \\boxed{ 0.2\\% }.\n",
    "$$"
   ]
  },
  {
   "cell_type": "markdown",
   "id": "bf1bb6a4",
   "metadata": {},
   "source": [
    "### 11."
   ]
  },
  {
   "cell_type": "markdown",
   "id": "09277495",
   "metadata": {},
   "source": [
    "Plot of the tabular data below."
   ]
  },
  {
   "cell_type": "code",
   "execution_count": 8,
   "id": "8a4b209e",
   "metadata": {},
   "outputs": [
    {
     "data": {
      "text/plain": [
       "Text(0, 0.5, 'refraction (arcsec)')"
      ]
     },
     "execution_count": 8,
     "metadata": {},
     "output_type": "execute_result"
    },
    {
     "data": {
      "image/png": "[encoded data removed]",
      "text/plain": [
       "<Figure size 640x480 with 1 Axes>"
      ]
     },
     "metadata": {},
     "output_type": "display_data"
    }
   ],
   "source": [
    "%matplotlib inline\n",
    "import numpy as np\n",
    "from numpy import interp\n",
    "import matplotlib.pyplot as plt\n",
    "\n",
    "zenith_distance = np.array([75, 80, 83, 85, 86, 87, 88, 89, 89.5, 90.])\n",
    "elevation = 90. - zenith_distance\n",
    "atmo_refrac = np.array([215., 320., 445., 590., 700., 860., 1103., 1480., 1760., 2123.])\n",
    "\n",
    "plt.plot(elevation, atmo_refrac)\n",
    "plt.grid(True)\n",
    "plt.xlabel('elevation angle (deg)')\n",
    "plt.ylabel('refraction (arcsec)')"
   ]
  },
  {
   "cell_type": "markdown",
   "id": "c83b2325",
   "metadata": {},
   "source": [
    "The elevation angle $e$ is the angle above the horizon, which is $90^\\circ$ minus the distance from zenith.\n",
    "\n",
    "Since the solar disk is $\\Delta \\theta = 32\\,{\\rm arcminutes}$ from top to bottom, when the center of the disk is at a certain elevation angle $e$, the top of the disk is at elevation angle $\\theta + \\Delta \\theta/2$ and the bottom is at elevation angle $e - \\Delta \\theta/2$. To calculate the apparent angular height of the solar disk, we need to calculate the refraction angle using the above table as seen at $e + \\Delta \\theta/2$ elevation and the angle as seen at $e - \\Delta \\theta/2$ and take the difference.\n",
    "\n",
    "The distance left-to-right across the disk exhibits no relative refraction, and so that angular distance remains $\\Delta \\theta$ across. \n",
    "\n",
    "Thus, the ellipticity will be given by the left-to-right distance $a$ and the top-to-bottom distance $b$. \n",
    "\n",
    "We'll write an interpolation function to make the calculation."
   ]
  },
  {
   "cell_type": "code",
   "execution_count": 59,
   "id": "572abdae",
   "metadata": {},
   "outputs": [
    {
     "data": {
      "text/plain": [
       "Text(0, 0.5, 'ellipticity')"
      ]
     },
     "execution_count": 59,
     "metadata": {},
     "output_type": "execute_result"
    },
    {
     "data": {
      "image/png": "[encoded data removed]",
      "text/plain": [
       "<Figure size 640x480 with 1 Axes>"
      ]
     },
     "metadata": {},
     "output_type": "display_data"
    }
   ],
   "source": [
    "def refracted_size(elevation_angle, delta_theta = 32./60):\n",
    "    # elevation_angle is the elevation angle of the center of the solar disk\n",
    "    # delta_theta is the unrefracted angular size of the solar disk in degrees\n",
    "    \n",
    "    zenith_table = np.array([75, 80, 83, 85, 86, 87, 88, 89, 89.5, 90.])\n",
    "    elevation_table = 90. - zenith_distance\n",
    "    atmo_refrac_table = np.array([215., 320., 445., 590., 700., 860., 1103., 1480., 1760., 2123.])/60./60.\n",
    "    # reverse arrays because interp wants xp to be sorted smallest to largest\n",
    "    elevation_table = elevation_table[::-1]\n",
    "    atmo_refrac_table = atmo_refrac_table[::-1]\n",
    "\n",
    "    refracted_elevation_top = (elevation_angle + 0.5*delta_theta) +\\\n",
    "        interp(elevation_angle + 0.5*delta_theta, elevation_table, atmo_refrac_table)\n",
    "    refracted_elevation_bot = (elevation_angle - 0.5*delta_theta) +\\\n",
    "        interp(elevation_angle - 0.5*delta_theta, elevation_table, atmo_refrac_table)\n",
    "        \n",
    "    return (refracted_elevation_top - refracted_elevation_bot)\n",
    "\n",
    "#     return (elevation_angle + 0.5*delta_theta) - (elevation_angle - 0.5*delta_theta)\n",
    "\n",
    "solar_elevation_angles = np.linspace(0.5, 10, 10)\n",
    "left_to_right_size = 32./60 # in degrees\n",
    "top_to_bottom_size = refracted_size(solar_elevation_angles) # in degrees\n",
    "\n",
    "ellipticity = (left_to_right_size - top_to_bottom_size)#/left_to_right_size\n",
    "plt.plot(solar_elevation_angles, ellipticity)\n",
    "plt.grid(True)\n",
    "plt.xlabel('elevation angle (deg)')\n",
    "plt.ylabel('ellipticity')"
   ]
  },
  {
   "cell_type": "markdown",
   "id": "894daea3",
   "metadata": {},
   "source": [
    "### 12. (a)"
   ]
  },
  {
   "cell_type": "markdown",
   "id": "4f198e66",
   "metadata": {},
   "source": [
    "Six months after discovery, the object would be in the same part of the sky as the Sun, so it wouldn't be visible."
   ]
  },
  {
   "cell_type": "markdown",
   "id": "a6580e70",
   "metadata": {},
   "source": [
    "### 12. (b)"
   ]
  },
  {
   "cell_type": "markdown",
   "id": "234d946f",
   "metadata": {},
   "source": [
    "I did this analysis by hand using a ruler. You could also load the images into an image analysis program, too, if you wanted.\n",
    "\n",
    "Since the object will move relative to the background stars both because of parallax and because of proper motion, the way to disentangle the two effects is to compare its position between the 0 and 12 month observations. Presumably, any change in the object's position relative to the background stars between those two frames should be due to proper motion and *not* parallax since the Earth will have returned to the same position.\n",
    "\n",
    "Between the 0 and 12 month observations, I estimate that the object moves $\\Delta x_{\\rm pm} =$ 7 pixels along the x-direction and $\\Delta y_{\\rm pm} =$ 12.5 pixels along the y-direction in 12 months. We're told each pixel represents 250 mas, so these displacements represent \n",
    "$$\n",
    "\\Delta x\\left( {\\rm arcsec} \\right)_{\\rm pm} = \\left( 7\\,{\\rm px} \\right) \\times \\left( 250\\,{\\rm mas/px} \\right) \\approx 1.8\\,{\\rm arcsecs}\\\\\n",
    "\\Delta y\\left( {\\rm arcsec} \\right)_{\\rm pm} = \\left( 12.5\\,{\\rm px} \\right) \\times \\left( 250\\,{\\rm mas/px} \\right) \\approx 3.1\\,{\\rm arcsecs}\n",
    "$$\n",
    "\n",
    "Dividing through by one year gives the proper motion vector (at least in the ecliptic frame):\n",
    "$$\n",
    "\\vec{v}_{\\rm pm} = \\boxed{ \\left( 1.8\\,{\\rm arcsecs\\ yr^{-1}} \\right) \\hat{x} + \\left( 3.1\\,{\\rm arcsecs\\ yr^{-1}} \\right) \\hat{y} }.\n",
    "$$\n",
    "\n",
    "Now we can calculate the parallax by measuring the displacements $\\Delta x_{\\rm parallax + pm}$ and $\\Delta y_{\\rm parallax + pm}$ between the 3 and 9 month observations and then subtracting out the of displacement vectors that we would expect over 6 months. I estimate $\\Delta x_{\\rm parallax + pm} = 11\\,{\\rm px}$ and $\\Delta y_{\\rm parallax + pm} = 6.5\\,{\\rm px}$. These values correspond to \n",
    "$$\n",
    "\\Delta x\\left( {\\rm arcsec} \\right)_{\\rm parallax + pm} = \\left( 11\\,{\\rm px} \\right) \\times \\left( 250\\,{\\rm mas/px} \\right) \\approx 2.8\\,{\\rm arcsecs}\\\\\n",
    "\\Delta y\\left( {\\rm arcsec} \\right)_{\\rm parallax + pm} = \\left( 6.5\\,{\\rm px} \\right) \\times \\left( 250\\,{\\rm mas/px} \\right) \\approx 1.6\\,{\\rm arcsecs}.\n",
    "$$\n",
    "\n",
    "Subtracting out the expected proper motion will give approximate parallax, which we expect to be nearly zero along the y-direction since the images have been aligned such that the Earth's orbital motion is only along the x-direction:\n",
    "$$\n",
    "\\Delta x\\left( {\\rm arcsec} \\right)_{\\rm parallax} = \\Delta x\\left( {\\rm arcsec} \\right)_{\\rm parallax + pm} - \\left( \\frac{\\Delta x}{\\Delta t} \\right)_{\\rm pm} \\Delta t = 2.8\\,{\\rm arcsecs} - \\left( 1.8\\,{\\rm arcsecs\\ yr^{-1}} \\right) \\left( 0.5\\,{\\rm yr} \\right) = \\boxed{ 1.9\\,{\\rm arcsecs} }\\\\\n",
    "\\Delta y\\left( {\\rm arcsec} \\right)_{\\rm parallax} = \\Delta y\\left( {\\rm arcsec} \\right)_{\\rm parallax + pm} - \\left( \\frac{\\Delta y}{\\Delta t} \\right)_{\\rm pm} \\Delta t = 1.6\\,{\\rm arcsecs} - \\left( 3.1\\,{\\rm arcsecs\\ yr^{-1}} \\right) \\left( 0.5\\,{\\rm yr} \\right) = 0\\,{\\rm arcsecs}.\n",
    "$$\n",
    "So zero to one decimal point, which is what we expected.\n",
    "\n",
    "Finally, let's convert this parallax into a distance. Since we're comparing observations between 3 and 9 months, the Earth is on opposites of its orbit, meaning the observational baseline is $a = 2\\, {\\rm AU}$, not 1 AU like normal. Re-arranging Equation 3.12 for distance (and being sure to convert $p$ from arcsecs to radians):\n",
    "$$\n",
    "r = \\frac{a}{p} = \\frac{2\\,{\\rm AU}}{\\left( 1.9\\,{\\rm arcsecs} / 206265\\,{\\rm arcsecs/radian}\\right)} = \\boxed{ 230000\\,{\\rm AU} = 3.6\\,{\\rm lightyears}}.\n",
    "$$"
   ]
  },
  {
   "cell_type": "markdown",
   "id": "5b7294f2",
   "metadata": {},
   "source": [
    "### 12. (c)\n",
    "The nearest star to the Sun is $\\alpha$ Centauri at 4.367 lightyears, so this object is almost as far as that. It's definitely not an asteroid, so it must be a star (although it would mean you've found a new nearest star, which is pretty amazing)."
   ]
  },
  {
   "cell_type": "markdown",
   "id": "f2dd94ed",
   "metadata": {},
   "source": [
    "### 12. (d)"
   ]
  },
  {
   "cell_type": "markdown",
   "id": "1bc232a0",
   "metadata": {},
   "source": [
    "The tangential velocity $v_{\\rm T}$ is just the square root of the sum of the squared velocity components:\n",
    "$$\n",
    "v_{\\rm T} = \\sqrt{\\left( 1.8\\,{\\rm arcsecs\\ yr^{-1}} \\right)^2 + \\left( 3.1\\,{\\rm arcsecs\\ yr^{-1}} \\right)^2} = \\boxed{ 3.6 \\,{\\rm arcsecs\\ yr^{-1}} }.\n",
    "$$"
   ]
  },
  {
   "cell_type": "markdown",
   "id": "31e929ee",
   "metadata": {},
   "source": [
    "### 13."
   ]
  },
  {
   "cell_type": "markdown",
   "id": "3cac1c27",
   "metadata": {},
   "source": [
    "Equation 3.22:\n",
    "$$\n",
    "R = \\frac{\\lambda}{\\delta \\lambda} = 9000,\n",
    "$$\n",
    "which, combining with Equation 3.21, tells us the smallest radial velocity we could estimate using a single line (assuming non-relativistic velocities):\n",
    "$$\n",
    "\\frac{v_{\\rm R}}{c} = \\frac{\\Delta \\lambda}{\\lambda} = \\frac{1}{R} = \\frac{1}{9000},\n",
    "$$\n",
    "or $v_{\\rm R} = c/9000 = 33\\,{\\rm km\\ s^{-1}}$ with a single line.\n",
    "\n",
    "But we're told that we detect 25 lines, so presumably each line will give us a little more information about the average radial velocity, meaning our uncertainty $\\sigma_{v_{\\rm R}}$ will be about \n",
    "$$\n",
    "\\sigma_{v_{\\rm R}} \\approx \\frac{33\\,{\\rm km\\ s^{-1}}}{\\sqrt{25}} = \\boxed{ 6.6\\,{\\rm km\\ s^{-1}} }.\n",
    "$$"
   ]
  },
  {
   "cell_type": "markdown",
   "id": "5c8f2c24",
   "metadata": {},
   "source": [
    "### 14."
   ]
  },
  {
   "cell_type": "markdown",
   "id": "d3b4a7bb",
   "metadata": {},
   "source": [
    "The trick to this problem is to notice the parenthetical comment below Equation 3.19: \"assume on average, the magnitudes of their radial and tangential velocities are equal\". \n",
    "\n",
    "The proper motion $\\mu$ is related to the tangential velocity as\n",
    "$$\n",
    "\\mu = \\frac{\\upsilon_{\\rm T}}{r},\n",
    "$$\n",
    "\n",
    "but we're only given $\\mu$, not $\\upsilon_{\\rm T}$. The parenthetical statement means we can assume the tangential velocity is about equal to the radial velocity $\\upsilon_{\\rm r}$, which we *are* given. Therefore,\n",
    "$$\n",
    "r = \\frac{\\upsilon_{\\rm T}}{\\mu} \\approx \\frac{\\upsilon_{\\rm r}}{\\mu}.\n",
    "$$\n",
    "\n",
    "This means that the magnitude of the space velocity $V$ is just\n",
    "$$\n",
    "V = \\sqrt{\\upsilon_{\\rm r}^2 + \\upsilon_{\\rm T}^2} \\approx \\sqrt{\\upsilon_{\\rm r}^2 + \\upsilon_{\\rm r}^2} = \\sqrt{2} \\upsilon_{\\rm r} = \\boxed{ 72\\,{\\rm km\\ s^{-1}} }.\n",
    "$$\n",
    "\n",
    "Next, we need to convert the proper motion into compatible units:\n",
    "$$\n",
    "\\mu\\left( {\\rm radians\\ second^{-1}} \\right) = \\frac{\\mu\\left( {\\rm arcsec\\ century^{-1}} \\right)}{\\left( 206265\\,{\\rm arcsecs\\ radian^{-1}} \\right) \\left( 3.14\\times10^9\\,{\\rm seconds\\ century^{-1}} \\right) } = 2.24\\times10^{-14}\\,{\\rm rad\\ s^{-1}}.\n",
    "$$\n",
    "\n",
    "Then plugging in to find $r$:\n",
    "$$\n",
    "r \\approx \\frac{\\upsilon_{\\rm r}}{\\mu} = \\frac{51\\,{\\rm km\\ s^{-1}}}{2.24\\times10^{-14}\\,{\\rm rad\\ s^{-1}}} = \\boxed{ 2.3\\times10^{15}\\,{\\rm km} = 240\\,{\\rm lightyears} }.\n",
    "$$\n",
    "\n",
    "Regarding uncertainties, the uncertainty on $V$ is given by\n",
    "$$\n",
    "\\sigma_{V} = \\sqrt{2} \\sigma_{\\upsilon_{\\rm r}} = 23\\,{\\rm km\\ s^{-1}},\n",
    "$$"
   ]
  },
  {
   "cell_type": "markdown",
   "id": "fe699d18",
   "metadata": {},
   "source": [
    "and the uncertainty on $r$ is given by\n",
    "$$\n",
    "\\sigma_{\\rm r} = r \\sqrt{ \\left( \\frac{\\sigma_{\\upsilon_{\\rm r}}}{\\upsilon_{\\rm r}} \\right)^2 + \\left( \\frac{\\sigma_{\\mu}}{\\mu} \\right)^2} = \\left( 240\\,{\\rm lightyears} \\right) \\sqrt{\\left( \\frac{16\\, {\\rm km\\ s^{-1}}}{51\\, {\\rm km\\ s^{-1}}} \\right)^2 + \\left( \\frac{6.0\\,{\\rm arcsec\\ century^{-1}}}{14.5\\,{\\rm arcsec\\ century^{-1}}} \\right)^2} = \\boxed{120\\,{\\rm lightyears}},\n",
    "$$\n",
    "\n",
    "which is quite a large uncertainty (50\\%)."
   ]
  }
 ],
 "metadata": {
  "kernelspec": {
   "display_name": "Python 3 (ipykernel)",
   "language": "python",
   "name": "python3"
  },
  "language_info": {
   "codemirror_mode": {
    "name": "ipython",
    "version": 3
   },
   "file_extension": ".py",
   "mimetype": "text/x-python",
   "name": "python",
   "nbconvert_exporter": "python",
   "pygments_lexer": "ipython3",
   "version": "3.9.18"
  }
 },
 "nbformat": 4,
 "nbformat_minor": 5
}
