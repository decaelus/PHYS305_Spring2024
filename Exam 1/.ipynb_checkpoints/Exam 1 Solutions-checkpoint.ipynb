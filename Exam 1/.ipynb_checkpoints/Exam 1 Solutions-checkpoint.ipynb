{
 "cells": [
  {
   "cell_type": "markdown",
   "id": "6395b9e8-3c66-4810-a2a2-a980fdc64d1c",
   "metadata": {},
   "source": [
    "#### 1."
   ]
  },
  {
   "cell_type": "markdown",
   "id": "e7f2b4c8-174b-422a-90c8-6a28f838443d",
   "metadata": {},
   "source": [
    "Stars emit luminous energy as blackbodies, and we can estimate the wavelength $\\lambda_{\\rm max}$ at which their emission peaks using Wien's Displacement law:\n",
    "$$\n",
    "\\lambda_{\\rm max} = \\frac{3\\times10^{-3}\\,{\\rm m\\ K}}{T_\\star},\n",
    "$$\n",
    "with $T_\\star$ the temperature of the star."
   ]
  },
  {
   "cell_type": "markdown",
   "id": "6f81fe39-bdc7-4d68-838b-c0f613612551",
   "metadata": {},
   "source": [
    "Plugging in $T_\\star = 3000\\,{\\rm K}$ gives\n",
    "$$\n",
    "\\lambda_{\\rm max} = \\frac{3\\times10^{-3}\\,{\\rm m\\ K}}{3000\\,{\\rm K}} = 1\\times10^{-6}\\,{\\rm m} = 1\\,{\\rm \\mu m}.\n",
    "$$\n",
    "In words, the star's emission peaks at $1\\,{\\rm \\mu m}$, so a filter centered on that wavelength is likely to return a larger number of photons and better signal-to-noise than filters at other wavelengths."
   ]
  },
  {
   "cell_type": "markdown",
   "id": "89b70b1c-8aa9-47dc-abe9-613ec6c72d7a",
   "metadata": {},
   "source": [
    "#### 2."
   ]
  },
  {
   "cell_type": "markdown",
   "id": "fbe33dde-234b-4d99-b07b-aa0b3836d956",
   "metadata": {},
   "source": [
    "Recall the relationship between stellar flux $F$ and magnitude $M$:\n",
    "$$\n",
    "M = -2.5 \\log_{10} \\left( F/F_0 \\right),\n",
    "$$\n",
    "where $F_0$ is some reference flux for an object with $M = 0$."
   ]
  },
  {
   "cell_type": "markdown",
   "id": "d8e3eccb-f376-41cb-a947-9a8f90faa8a0",
   "metadata": {},
   "source": [
    "Thus, we can solve for $F$ as\n",
    "$$\n",
    "F = F_0 \\times 10^{-M/2.5}.\n",
    "$$"
   ]
  },
  {
   "cell_type": "markdown",
   "id": "7a31fc0b-abc1-4119-ade5-7ed3265a0d86",
   "metadata": {},
   "source": [
    "Plugging in our numbers:\n",
    "$$\n",
    "F = \\left( 1.2 \\times 10^{-9}\\,{\\rm W\\ m^{-2}} \\right) \\times 10^{-6.741/2.5} = 2.4\\times10^{-12}\\,{\\rm W\\ m^{-2}}.\n",
    "$$"
   ]
  },
  {
   "cell_type": "markdown",
   "id": "4bf3d352-4057-488e-973f-909b263ee442",
   "metadata": {},
   "source": [
    "#### 3."
   ]
  },
  {
   "cell_type": "markdown",
   "id": "18602883-a4c3-48d3-8bf0-8955bacaaf60",
   "metadata": {},
   "source": [
    "Energy $E$ for a photon of wavelength $\\lambda$ is \n",
    "$$\n",
    "E = hc/\\lambda,\n",
    "$$\n",
    "with $h$ Planck's constant and $c$ the speed of light."
   ]
  },
  {
   "cell_type": "markdown",
   "id": "e4342f25-e260-44ae-b73c-3fbc0702dc1e",
   "metadata": {},
   "source": [
    "Plugging in $\\lambda = 1\\,{\\rm \\mu m} = 10^{-6}\\,{\\rm m}$:\n",
    "$$\n",
    "E = \\frac{\\left( 6.6\\times10^{-34}\\,{\\rm J\\ s} \\right) \\left( 3\\times10^8\\,{\\rm m\\ s^{-1}} \\right)}{\\left( 10^{-6}\\,{\\rm m} \\right)} = 2\\times10^{-19}\\,{\\rm J}.\n",
    "$$"
   ]
  },
  {
   "cell_type": "markdown",
   "id": "c327b485-f295-496a-8dc6-201500792fb8",
   "metadata": {},
   "source": [
    "Therefore, the energy flux $F = 2.4\\times10^{-12}\\, {\\rm W\\ m^{-2}}$ translates into a number flux $F/E = 1.2\\times10^7\\,{\\rm m^{-2}\\ s^{-1}}$."
   ]
  },
  {
   "cell_type": "markdown",
   "id": "b27c91cd-ab23-4b1a-b5b4-43f5b5639c47",
   "metadata": {},
   "source": [
    "#### 4."
   ]
  },
  {
   "cell_type": "markdown",
   "id": "2e256f0f-6f5e-43a9-bd41-27ac42ad2ad1",
   "metadata": {},
   "source": [
    "An aperture $D = 20\\, {\\rm m}$ gives a telescope area $A$:\n",
    "$$\n",
    "A = \\pi \\left( D/2 \\right)^2 = \\pi \\left( 20\\times10^{-2}\\,{\\rm m}/2\\right)^2 = 0.03\\,{\\rm m^2}.\n",
    "$$"
   ]
  },
  {
   "cell_type": "markdown",
   "id": "123d08bd-67ed-477f-b1ed-54ede41efc63",
   "metadata": {},
   "source": [
    "If our photon flux is $f = 1.2\\times10^7\\,{\\rm m^{-2}\\ s^{-1}}$, then in time $t$ 1 second, a telescope of that size will collect\n",
    "$$\n",
    "N = t A f = \\left( 1\\,{\\rm s} \\right) \\left( 0.03\\,{\\rm m^2} \\right) \\left( 1.2\\times10^7\\,{\\rm m^{-2}\\ s^{-1}} \\right) = 360000\\,{\\rm photons}.\n",
    "$$"
   ]
  },
  {
   "cell_type": "markdown",
   "id": "8817b4d1-a53d-4fbb-8399-2bc68eafd416",
   "metadata": {},
   "source": [
    "According to Poisson statistics, the relative precision for such a measurement is\n",
    "$$\n",
    "p = \\frac{1}{\\sqrt{N}} = \\frac{1}{\\sqrt{360000}} = 0.2\\%.\n",
    "$$"
   ]
  },
  {
   "cell_type": "markdown",
   "id": "7c72f5e7-28cf-42b5-9d70-d226b1501535",
   "metadata": {},
   "source": [
    "#### 5."
   ]
  },
  {
   "cell_type": "markdown",
   "id": "9202c2a6-e4e9-4160-a1a3-6db65b1ba19e",
   "metadata": {},
   "source": [
    "The time since the last observation $t$ is given by \n",
    "$$\n",
    "t = \\Delta/\\mu = \\frac{ 6234\\,{\\rm as} }{10.39000\\,{\\rm as\\ yr^{-1}}} = 600\\,{\\rm yr},\n",
    "$$\n",
    "meaning the year is 1999 + 600 = 2599! But what about the uncertainty?"
   ]
  },
  {
   "cell_type": "markdown",
   "id": "4a61e2f8-8dc2-41c9-88f4-238475dad548",
   "metadata": {},
   "source": [
    "The uncertainty $\\sigma_t$ on the time $t$ is given by \n",
    "$$\n",
    "\\sigma_t = \\sqrt{\\left( \\frac{\\partial t}{\\partial \\Delta} \\right)^2 \\sigma_\\Delta^2 +\n",
    "    \\left( \\frac{\\partial t}{\\partial \\mu} \\right)^2 \\sigma_\\mu^2 } \\\\ \n",
    "    = \\sqrt{\\left( \\frac{1}{\\mu} \\right)^2 \\sigma_\\Delta^2 + \\left( \\frac{\\Delta}{\\mu^2} \\right)^2 \\sigma_\\mu^2 }\n",
    "$$"
   ]
  },
  {
   "cell_type": "markdown",
   "id": "0768e4a4-90d8-4fbb-bbda-5b27bb850571",
   "metadata": {},
   "source": [
    "$$\n",
    "\\sigma_t = \\sqrt{ \\left( \\frac{1}{10.39000\\,{\\rm as\\ yr^{-1}}} \\right)^2 \\left( 0.03\\,{\\rm as} \\right)^2 + \\left( \\frac{6234.00\\,{\\rm as}}{\\left( 10.39000\\,{\\rm as\\ yr^{-1}} \\right)^2} \\right)^2 \\left( 5\\times10^{-5}\\,{\\rm as\\ yr^{-1}}\\right)^2} = 0.004\\,{\\rm yr},\n",
    "$$\n",
    "which is very small. \n",
    "\n",
    "So the year is $\\left(2599\\pm0.004\\right){\\rm yr}$, and Morpheus is very wrong."
   ]
  }
 ],
 "metadata": {
  "kernelspec": {
   "display_name": "Python 3 (ipykernel)",
   "language": "python",
   "name": "python3"
  },
  "language_info": {
   "codemirror_mode": {
    "name": "ipython",
    "version": 3
   },
   "file_extension": ".py",
   "mimetype": "text/x-python",
   "name": "python",
   "nbconvert_exporter": "python",
   "pygments_lexer": "ipython3",
   "version": "3.9.18"
  }
 },
 "nbformat": 4,
 "nbformat_minor": 5
}
